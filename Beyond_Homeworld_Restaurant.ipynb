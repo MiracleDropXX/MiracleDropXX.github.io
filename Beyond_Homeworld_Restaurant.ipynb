{
  "cells": [
    {
      "cell_type": "markdown",
      "id": "0b8d7409-b7b5-4891-b2d4-7de00d837621",
      "metadata": {
        "id": "0b8d7409-b7b5-4891-b2d4-7de00d837621"
      },
      "source": [
        "# Beyond Homeworld\n",
        "## Chapter III: Cooking game\n",
        "\n",
        "<p>After enjoying the four-room appartment and a deterministic investment game which cost our agent her life-saving (not really). She now works at a restaurant as a untrained cook. Firt step is to choose correct ingredients and how to do with it. In this setting, our Agent receives a task (a descriptive description of the dish) and must explore her way through trial and error to learn the correct way to prepare the meal.</p>\n",
        "\n",
        "### The world\n",
        "<p>The world is a tupple of $\\mathcal{H,A,O,R}$. In a game, the Agent will be assign a state, which charaterised by the meal to be prepared. However, the state is partially observable to her, through a short description about the state, e.g., \"I want rice which is prepared in frying pan and oil, side dish is boiled shrimp\" refers to state h_i (<b>rice-fried-shrimp-boiled</b>). For our problem, main dishes are rice, bread, noodle with 3 ways of preparation: steam, fry, bake. Side dishes consist of shrimp, chicken, vegie with three ways to serve: boil, fry, steam. Mathematically speaking, this map to3 to power of 4, hence or <b>hidden state space $\\mathcal{H}$. </b></p>\n",
        "\n",
        "<p><b>Observed information $\\mathcal{O}$:</b> as said is a codomain that related to our hidden state domain with a many-to-one relation. For each of state $h_i \\in \\mathcal{H}$, there will be multiple description about the meal to be served. Each statement in Observed space mapping to a unique states (Note: this is not a classification problem). The hidden state- observed description is prepare in a synthetic way (e.g.,  string <i>2gdzb##*</i> means <i>\"I want fried rice with fry veggie\"</i> for no particular reason.)</p>\n",
        "\n",
        "<p><b>Action space A:</b> after observe o_i, agent will choose ingredidents and what to do with them. This mean the action space is \"equal\" to the state space. (??)</p>\n",
        "\n",
        "<p><b>Rewards:</b> reward is received at the end of the game only (no immediate reward) which make sense in this one-step only game. If our agent correctly prepare the meal, she will receive a reward of $+100$. For every meal that is half correct, main dish or side dish, the reward is $0$ while getting all incorrect is a negative reward of $-100$.</p>"
      ]
    },
    {
      "cell_type": "code",
      "execution_count": null,
      "id": "68ea0b68-03d1-4241-8474-048f054ad462",
      "metadata": {
        "id": "68ea0b68-03d1-4241-8474-048f054ad462"
      },
      "outputs": [],
      "source": [
        "### setting up environment\n",
        "import pandas as pd\n",
        "import numpy as np\n",
        "import random\n",
        "import string\n",
        "from tqdm import tqdm\n",
        "### maybe just that?\n"
      ]
    },
    {
      "cell_type": "markdown",
      "id": "ba16cc97-8048-453f-9460-59f530fafbbc",
      "metadata": {
        "id": "ba16cc97-8048-453f-9460-59f530fafbbc"
      },
      "source": [
        "### The Algorithm\n",
        "\n",
        "<p>In this simple set up. we consider the Q-iteration approach. The Bellman Optimality and the Optimal Policy take the form of:</p>\n",
        "\n",
        "####  Bellman Optimality Equation for $Q^*(s,a)$:\n",
        "$$Q^*(s,a) = \\text{R}(s,a)$$\n",
        "\n",
        "#### Optimal Policy $\\pi^*(s)$:\n",
        "$$\\pi^*(s) = \\underset{a \\in A}{\\text{argmax}} \\, Q^*(s,a)$$\n",
        "\n",
        "<p>Behind all the Pie and the Qute, the underlying of this problem is extreme simple: our Agent through trial and error learn about the state (task) she is in and act accordingly. For example, seeing a dot on the screen and touch that dot. We will extend the problem complexity if our Agent pass her probabtion time.</p>"
      ]
    },
    {
      "cell_type": "markdown",
      "id": "cb1a97aa-5bd1-4d74-a883-5513e706fc88",
      "metadata": {
        "id": "cb1a97aa-5bd1-4d74-a883-5513e706fc88"
      },
      "source": [
        "### Implementation\n",
        "#### Initiating world\n",
        "<p>As briefly introduced, the state space is with size of $3^4$. State is characterized by a tuble of tubles:</p>\n",
        "    $\\text{(Main  dish, Side  dish)}$, where Main dish is $\\text{(Main  Ingredient, Main Method)}$, where $\\text{Main Ingredient} \\in \\text{(Rice, Bread, Noodle)}$, $\\text{Main Method} \\in \\text{(Steam, Fry, Bake)}$\n",
        "<br></br>\n",
        "<p>Similarly:</p>\n",
        "$\\text{Side dish}$ is $\\text{(Side Ingredient, Side Method)}$ with $\\text{Side Ingredient} \\in \\text{(Shrimp, Chicken, Vegie)}$, $\\text{Side Method} \\in \\text{(Boil, Fry, Steam)}$</p>\n",
        "\n",
        "\n",
        "<p>Given the world of tuble of 9 for first dish and 9 for side dish, states $h_i$ are unorderred numbers from 0 to 81. Each will mapped to three autogenerated strings in Observed space O:</p>"
      ]
    },
    {
      "cell_type": "code",
      "execution_count": null,
      "id": "ee0ff61c-413c-4a57-8eb3-8b05bd2f391b",
      "metadata": {
        "id": "ee0ff61c-413c-4a57-8eb3-8b05bd2f391b"
      },
      "outputs": [],
      "source": [
        "# main dish\n",
        "\n",
        "main_ingredients = [\"Rice\", \"Bread\",\"Noodle\"]\n",
        "main_methods = [\"Steam\",\"boil\",\"fry\"]\n",
        "\n",
        "action_1 = [(ingre, method) for ingre in main_ingredients for method in main_methods]\n",
        "\n",
        "side_ingredients = [\"Shrimp\", \"Chicken\",\"Gemüse\"]\n",
        "side_methods = [\"Boil\", \"Deepfry\",\"steam\"]\n",
        "\n",
        "action_2 = [(ingre, method) for ingre in side_ingredients for method in side_methods]"
      ]
    },
    {
      "cell_type": "code",
      "execution_count": null,
      "id": "00b1eba9-c989-4859-a8d6-a8800fc1d48d",
      "metadata": {
        "id": "00b1eba9-c989-4859-a8d6-a8800fc1d48d"
      },
      "outputs": [],
      "source": [
        "action_all = [(act1, act2) for act1 in action_1 for act2 in action_2]\n",
        "states = action_all #same as action space\n",
        "O_states = dict() #a dictionary with key is states themself and values is description of the states in strings"
      ]
    },
    {
      "cell_type": "code",
      "execution_count": null,
      "id": "4966bdcd-bdb5-46ef-9115-e7f741734ca3",
      "metadata": {
        "id": "4966bdcd-bdb5-46ef-9115-e7f741734ca3"
      },
      "outputs": [],
      "source": [
        "# actually working with number is much easier than with text (we can use them to index our tables:\n",
        "actions_number = [i for i in range(len(action_all))]\n",
        "states_number  = [i for i in range(len(states))]\n",
        "\n",
        "NUM_ACTIONS = len(actions_number)\n",
        "NUM_STATES = len(states_number)\n"
      ]
    },
    {
      "cell_type": "markdown",
      "id": "2a805f6d-7dfe-45e9-b197-89f86153dfdb",
      "metadata": {
        "id": "2a805f6d-7dfe-45e9-b197-89f86153dfdb"
      },
      "source": [
        "<p>Next, for each action_all we create a dictionary where keys are tuble elements of <b><i>action_all</i></b> and value are list of description. To save time, we auto generate indices and assign 3 for each state $h_i$ in $\\mathcal{H}$. The diction in this case is <i>O_states</i></p>"
      ]
    },
    {
      "cell_type": "code",
      "execution_count": null,
      "id": "de480811-c97d-43ce-ad69-2f7e4f541032",
      "metadata": {
        "id": "de480811-c97d-43ce-ad69-2f7e4f541032"
      },
      "outputs": [],
      "source": [
        "# take out the charcters and digits\n",
        "letters = string.ascii_letters + string.digits\n",
        "\n",
        "# looping over states, assign new object in the dictionary with key as state and values are three randomized strings\n",
        "for state_i in states_number:\n",
        "   O_states[state_i] =  [i for i in range(state_i*2, state_i*2+3)]"
      ]
    },
    {
      "cell_type": "markdown",
      "id": "e4816980-35b2-4488-8458-478b10e23961",
      "metadata": {
        "id": "e4816980-35b2-4488-8458-478b10e23961"
      },
      "source": [
        "<p>Last but not least, Reward space $\\mathcal{R}$ is a tupple of (-100, 0, 100) for getting no, at most one, and both actions correct.</p>"
      ]
    },
    {
      "cell_type": "code",
      "execution_count": null,
      "id": "1dfbd394-7acf-4c1b-9557-335271e6cd47",
      "metadata": {
        "id": "1dfbd394-7acf-4c1b-9557-335271e6cd47"
      },
      "outputs": [],
      "source": [
        "# reward\n",
        "Reward = ( 0, 100)"
      ]
    },
    {
      "cell_type": "markdown",
      "id": "2f872f2f-d00d-489a-ad4a-5e776b370121",
      "metadata": {
        "id": "2f872f2f-d00d-489a-ad4a-5e776b370121"
      },
      "source": [
        "#### Structure of an Episode:\n",
        "\n",
        "<p>An episode of our game is rather short: at the begining, a customer arrives having in mind a particular meal in mind with the probability of $1/N$, hence setting the state of the world. Agent does not know customer's thought and only received a description drawn from $\\mathcal{O}$. Our agent based on experiences from playing all the games, make inference about the state (which order) she is in and choose appropriate choice to maximize rewards.</p>"
      ]
    },
    {
      "cell_type": "code",
      "execution_count": null,
      "id": "c09092c0-f6d0-496e-b3e5-d3bd0540f14f",
      "metadata": {
        "colab": {
          "base_uri": "https://localhost:8080/"
        },
        "id": "c09092c0-f6d0-496e-b3e5-d3bd0540f14f",
        "outputId": "b839af13-342a-4918-88cf-88e607eb68a9"
      },
      "outputs": [
        {
          "output_type": "execute_result",
          "data": {
            "text/plain": [
              "243"
            ]
          },
          "metadata": {},
          "execution_count": 27
        }
      ],
      "source": [
        "def initiate_state():\n",
        "    state = random.choice(states_number)\n",
        "    message = state # random.choice(O_states[state])\n",
        "    return state, message\n",
        "\n",
        "\n",
        "# Function to \"undict\" a dictionary, flatten its structure, and count elements\n",
        "def flatten_and_count_elements(input_dict):\n",
        "    # Initialize an empty list to store the flattened elements\n",
        "    flattened_elements = []\n",
        "\n",
        "    # Function to recursively extract elements from nested structures\n",
        "    def extract_elements(element):\n",
        "        if isinstance(element, dict):\n",
        "            for value in element.values():\n",
        "                extract_elements(value)\n",
        "        elif isinstance(element, list):\n",
        "            for item in element:\n",
        "                extract_elements(item)\n",
        "        else:\n",
        "            flattened_elements.append(element)\n",
        "\n",
        "    # Start the extraction process\n",
        "    extract_elements(input_dict)\n",
        "\n",
        "    # Return the count of flattened elements\n",
        "    return len(flattened_elements)\n",
        "\n",
        "# Count the total elements in the example dictionary\n",
        "NUM_OBSERVEDS = flatten_and_count_elements(O_states)\n",
        "NUM_OBSERVEDS"
      ]
    },
    {
      "cell_type": "markdown",
      "id": "b457a7a9-bdc2-4e28-9a1c-7a8faeedb831",
      "metadata": {
        "id": "b457a7a9-bdc2-4e28-9a1c-7a8faeedb831"
      },
      "source": [
        "Setting parameters for our games:"
      ]
    },
    {
      "cell_type": "code",
      "execution_count": null,
      "id": "109b7f51-59cd-43e2-91c4-8be612a76dd8",
      "metadata": {
        "id": "109b7f51-59cd-43e2-91c4-8be612a76dd8"
      },
      "outputs": [],
      "source": [
        "GAMMA = 1 # discounted factor, no discount anyway\n",
        "TRAINING_EP = 0.08 # epsilon-greedy parameter for training\n",
        "TESTING_EP = 0.005  # epsilon-greedy parameter for testing\n",
        "NUM_RUNS = 150\n",
        "NUM_EPOCHS = 5000\n",
        "NUM_EPIS_TRAIN = 128  # number of games for training at each epoch\n",
        "NUM_EPIS_TEST = 128  # number of games for testing\n",
        "ALPHA = 1 # learning rate for training, 1 to replace old value with new value entirely"
      ]
    },
    {
      "cell_type": "markdown",
      "id": "a4d7d355-a28f-4e9d-88fc-f01ba2f568c8",
      "metadata": {
        "id": "a4d7d355-a28f-4e9d-88fc-f01ba2f568c8"
      },
      "source": [
        "#### $\\epsilon$-Greedy: Exploration vs (Good) Exploitation\n",
        "\n",
        "<justified><p> For this exercise, we employ the epsilon to balancing the exploration by randomly taking an action vs. applying what have been learnt.\n",
        "</p></justified>"
      ]
    },
    {
      "cell_type": "code",
      "execution_count": null,
      "id": "ff66ff2c-481f-4d55-a283-a5c685fc6f6d",
      "metadata": {
        "id": "ff66ff2c-481f-4d55-a283-a5c685fc6f6d"
      },
      "outputs": [],
      "source": [
        "def epsilon_greedy(state, observed, q_func, epsilon):\n",
        "    \"\"\"Returns an action selected by an epsilon-Greedy exploration policy\n",
        "\n",
        "    Args:\n",
        "        state_1 (int): indices describing the current state\n",
        "        state_2 (int): indicate observed signal: negative: stay/become bad, positive stay/becomd good\n",
        "        q_func (np.ndarray): current Q-function\n",
        "        epsilon (float): the probability of choosing a random command\n",
        "\n",
        "    Returns:\n",
        "        (int, int): the indices describing the action/object to take\n",
        "    \"\"\"\n",
        "    coin = np.random.random_sample()\n",
        "    if coin < epsilon:\n",
        "        action_index = np.random.randint(NUM_ACTIONS)\n",
        "    else:\n",
        "        q_values = q_func[state, observed, :]\n",
        "        action_index = np.unravel_index(np.argmax(q_values, axis=None),\n",
        "                                          q_values.shape)[0]\n",
        "\n",
        "    return (action_index)\n",
        "\n",
        "def count_matches(state, action):\n",
        "    return 1 if (state == action) else 0\n"
      ]
    },
    {
      "cell_type": "code",
      "execution_count": null,
      "id": "d3dd9918-1b8d-4d54-a4b5-30e73e6dcb74",
      "metadata": {
        "id": "d3dd9918-1b8d-4d54-a4b5-30e73e6dcb74"
      },
      "outputs": [],
      "source": [
        "#### Update Q"
      ]
    },
    {
      "cell_type": "code",
      "execution_count": null,
      "id": "e1bd5d56-5a43-4f33-87c9-9c56d0c50baa",
      "metadata": {
        "id": "e1bd5d56-5a43-4f33-87c9-9c56d0c50baa"
      },
      "outputs": [],
      "source": [
        "def tabular_q_learning(q_func, current_state, observed_current_state, action_index,\n",
        "                       reward):\n",
        "    \"\"\"Update q_func for a given transition\n",
        "\n",
        "    Args:\n",
        "        q_func (np.ndarray): current Q-function\n",
        "        current_state, observed_current_state (int, int): two indices describing the current state and the revelation of t+1\n",
        "        action_index (int): index of the current action\n",
        "\n",
        "        reward (float): the immediate reward the agent recieves from playing current command (atm = 0)\n",
        "        next_state, observed_next_state (int, int): two indices describing the next state and revelation of t+2\n",
        "        terminal (bool): True if this epsiode is over\n",
        "\n",
        "    Returns:\n",
        "        None\n",
        "    \"\"\"\n",
        "    maxq_next_state = 0 # one time step game\n",
        "\n",
        "    q_value = q_func[current_state, observed_current_state, action_index]\n",
        "    q_func[current_state, observed_current_state, action_index] = (\n",
        "        1 - ALPHA) * q_value + ALPHA * (reward + GAMMA * maxq_next_state)"
      ]
    },
    {
      "cell_type": "code",
      "execution_count": null,
      "id": "ec9eea5a-83f6-4d8a-8399-b42c4bbdff31",
      "metadata": {
        "id": "ec9eea5a-83f6-4d8a-8399-b42c4bbdff31"
      },
      "outputs": [],
      "source": [
        "def run_episode(for_training):\n",
        "    \"\"\" Runs one episode\n",
        "    If for training, update Q function\n",
        "    If for testing, choose action and print out reward\n",
        "\n",
        "    Args:\n",
        "        for_training (bool): True if for training\n",
        "\n",
        "    Returns:\n",
        "\n",
        "    \"\"\"\n",
        "    epsilon = TRAINING_EP if for_training else TESTING_EP\n",
        "    gamma_step = 1\n",
        "    epi_reward = 1\n",
        "\n",
        "    (current_state, current_observed) = initiate_state()\n",
        "\n",
        "    # Choose next action and execute\n",
        "    action_index = epsilon_greedy(current_state, current_observed,\n",
        "                                    q_func, epsilon)\n",
        "    matches = count_matches(current_state, action_index)\n",
        "    # Execute action and observe next state and reward\n",
        "    if matches == 1:\n",
        "        reward = 100\n",
        "    elif matches == 0:\n",
        "        reward = 0\n",
        "\n",
        "\n",
        "\n",
        "    if for_training:\n",
        "        # update Q-function.\n",
        "        tabular_q_learning(q_func, current_state, current_observed,\n",
        "                            action_index,reward)\n",
        "\n",
        "    if not for_training:\n",
        "        # update reward\n",
        "        epi_reward = reward\n",
        "        gamma_step = gamma_step * GAMMA\n",
        "\n",
        "    if not for_training:\n",
        "        return epi_reward"
      ]
    },
    {
      "cell_type": "code",
      "execution_count": null,
      "id": "9a0f3c70-4dd8-4e5e-97b4-791228030661",
      "metadata": {
        "id": "9a0f3c70-4dd8-4e5e-97b4-791228030661"
      },
      "outputs": [],
      "source": [
        "def run_epoch():\n",
        "    \"\"\"Runs one epoch and returns reward averaged over test episodes\"\"\"\n",
        "    rewards = []\n",
        "\n",
        "    for _ in range(NUM_EPIS_TRAIN):\n",
        "        run_episode(for_training=True)\n",
        "\n",
        "    for _ in range(NUM_EPIS_TEST):\n",
        "        global STEP_COUNT\n",
        "        STEP_COUNT = 0\n",
        "        rewards.append(run_episode(for_training=False))\n",
        "\n",
        "    return np.mean(np.array(rewards))\n",
        "\n",
        "\n",
        "\n",
        "def run():\n",
        "    \"\"\"Returns array of test reward per epoch for one run\"\"\"\n",
        "    global q_func\n",
        "    q_func = np.zeros((NUM_STATES, NUM_OBSERVEDS, NUM_ACTIONS))\n",
        "\n",
        "    single_run_epoch_rewards_test = []\n",
        "    pbar = tqdm(range(NUM_EPOCHS), ncols=80)\n",
        "    for _ in pbar:\n",
        "        single_run_epoch_rewards_test.append(run_epoch())\n",
        "        pbar.set_description(\n",
        "            \"Avg reward: {:0.6f}\".format(\n",
        "                np.mean(single_run_epoch_rewards_test)))\n",
        "    return single_run_epoch_rewards_test\n"
      ]
    },
    {
      "cell_type": "code",
      "execution_count": null,
      "id": "8843007e-f923-4e45-9bbb-af46f4939af0",
      "metadata": {
        "colab": {
          "base_uri": "https://localhost:8080/",
          "height": 1000
        },
        "id": "8843007e-f923-4e45-9bbb-af46f4939af0",
        "outputId": "d8cd5f37-f7f4-4607-9e82-cbc4e5f85a6d"
      },
      "outputs": [
        {
          "output_type": "stream",
          "name": "stderr",
          "text": [
            "Avg reward: 85.445000: 100%|███████████████| 5000/5000 [00:32<00:00, 152.25it/s]\n",
            "Avg reward: 88.038281: 100%|███████████████| 5000/5000 [00:33<00:00, 148.78it/s]\n",
            "Avg reward: 86.863281: 100%|███████████████| 5000/5000 [00:33<00:00, 149.92it/s]\n",
            "Avg reward: 87.143125: 100%|███████████████| 5000/5000 [00:33<00:00, 150.61it/s]\n",
            "Avg reward: 88.359219: 100%|███████████████| 5000/5000 [00:34<00:00, 144.66it/s]\n",
            "Avg reward: 87.112031: 100%|███████████████| 5000/5000 [00:33<00:00, 150.72it/s]\n",
            "Avg reward: 87.494687: 100%|███████████████| 5000/5000 [00:33<00:00, 151.08it/s]\n",
            "Avg reward: 87.894219: 100%|███████████████| 5000/5000 [00:33<00:00, 147.90it/s]\n",
            "Avg reward: 88.162188: 100%|███████████████| 5000/5000 [00:33<00:00, 150.40it/s]\n",
            "Avg reward: 85.536719: 100%|███████████████| 5000/5000 [00:33<00:00, 149.56it/s]\n",
            "Avg reward: 87.812656: 100%|███████████████| 5000/5000 [00:33<00:00, 148.46it/s]\n",
            "Avg reward: 86.256719: 100%|███████████████| 5000/5000 [00:36<00:00, 138.14it/s]\n",
            "Avg reward: 88.225313: 100%|███████████████| 5000/5000 [00:33<00:00, 151.31it/s]\n",
            "Avg reward: 87.246406: 100%|███████████████| 5000/5000 [00:33<00:00, 150.84it/s]\n",
            "Avg reward: 86.853125: 100%|███████████████| 5000/5000 [00:33<00:00, 149.99it/s]\n",
            "Avg reward: 87.214219: 100%|███████████████| 5000/5000 [00:33<00:00, 150.12it/s]\n",
            "Avg reward: 88.283906: 100%|███████████████| 5000/5000 [00:33<00:00, 151.01it/s]\n",
            "Avg reward: 86.795312: 100%|███████████████| 5000/5000 [00:34<00:00, 145.88it/s]\n",
            "Avg reward: 83.957188: 100%|███████████████| 5000/5000 [00:33<00:00, 151.08it/s]\n",
            "Avg reward: 87.488281: 100%|███████████████| 5000/5000 [00:33<00:00, 151.41it/s]\n",
            "Avg reward: 87.800469: 100%|███████████████| 5000/5000 [00:32<00:00, 153.38it/s]\n",
            "Avg reward: 86.352812: 100%|███████████████| 5000/5000 [00:32<00:00, 151.56it/s]\n",
            "Avg reward: 86.891875: 100%|███████████████| 5000/5000 [00:33<00:00, 150.63it/s]\n",
            "Avg reward: 85.973438: 100%|███████████████| 5000/5000 [00:33<00:00, 150.59it/s]\n",
            "Avg reward: 87.115625: 100%|███████████████| 5000/5000 [00:33<00:00, 147.18it/s]\n",
            "Avg reward: 84.595469: 100%|███████████████| 5000/5000 [00:33<00:00, 150.42it/s]\n",
            "Avg reward: 86.026562: 100%|███████████████| 5000/5000 [00:32<00:00, 152.36it/s]\n",
            "Avg reward: 88.497344: 100%|███████████████| 5000/5000 [00:33<00:00, 150.60it/s]\n",
            "Avg reward: 88.800313: 100%|███████████████| 5000/5000 [00:32<00:00, 152.70it/s]\n",
            "Avg reward: 85.814844: 100%|███████████████| 5000/5000 [00:32<00:00, 152.21it/s]\n",
            "Avg reward: 87.664062: 100%|███████████████| 5000/5000 [00:33<00:00, 150.20it/s]\n",
            "Avg reward: 87.371250: 100%|███████████████| 5000/5000 [00:35<00:00, 139.10it/s]\n",
            "Avg reward: 85.906250: 100%|███████████████| 5000/5000 [00:33<00:00, 148.70it/s]\n",
            "Avg reward: 86.692813: 100%|███████████████| 5000/5000 [00:34<00:00, 145.45it/s]\n",
            "Avg reward: 84.605312: 100%|███████████████| 5000/5000 [00:33<00:00, 150.72it/s]\n",
            "Avg reward: 86.807500: 100%|███████████████| 5000/5000 [00:34<00:00, 143.73it/s]\n",
            "Avg reward: 84.463750: 100%|███████████████| 5000/5000 [00:33<00:00, 149.85it/s]\n",
            "Avg reward: 87.411406: 100%|███████████████| 5000/5000 [00:34<00:00, 145.64it/s]\n",
            "Avg reward: 87.056250: 100%|███████████████| 5000/5000 [00:33<00:00, 149.52it/s]\n",
            "Avg reward: 89.978437: 100%|███████████████| 5000/5000 [00:33<00:00, 147.64it/s]\n",
            "Avg reward: 86.637187: 100%|███████████████| 5000/5000 [00:33<00:00, 149.21it/s]\n",
            "Avg reward: 85.693906: 100%|███████████████| 5000/5000 [00:33<00:00, 148.82it/s]\n",
            "Avg reward: 85.853906: 100%|███████████████| 5000/5000 [00:34<00:00, 146.40it/s]\n",
            "Avg reward: 87.555937: 100%|███████████████| 5000/5000 [00:34<00:00, 146.67it/s]\n",
            "Avg reward: 87.556719: 100%|███████████████| 5000/5000 [00:34<00:00, 144.62it/s]\n",
            "Avg reward: 86.784844: 100%|███████████████| 5000/5000 [00:34<00:00, 146.52it/s]\n",
            "Avg reward: 88.086562: 100%|███████████████| 5000/5000 [00:34<00:00, 146.47it/s]\n",
            "Avg reward: 89.409063: 100%|███████████████| 5000/5000 [00:33<00:00, 147.77it/s]\n",
            "Avg reward: 84.066563: 100%|███████████████| 5000/5000 [00:33<00:00, 148.08it/s]\n",
            "Avg reward: 87.372344: 100%|███████████████| 5000/5000 [00:34<00:00, 146.96it/s]\n",
            "Avg reward: 89.410313: 100%|███████████████| 5000/5000 [00:34<00:00, 145.44it/s]\n",
            "Avg reward: 85.708750: 100%|███████████████| 5000/5000 [00:34<00:00, 145.26it/s]\n",
            "Avg reward: 87.773750: 100%|███████████████| 5000/5000 [00:33<00:00, 149.38it/s]\n",
            "Avg reward: 86.733906: 100%|███████████████| 5000/5000 [00:33<00:00, 148.96it/s]\n",
            "Avg reward: 88.726875: 100%|███████████████| 5000/5000 [00:31<00:00, 156.79it/s]\n",
            "Avg reward: 89.818438: 100%|███████████████| 5000/5000 [00:31<00:00, 157.75it/s]\n",
            "Avg reward: 89.950937: 100%|███████████████| 5000/5000 [00:33<00:00, 148.34it/s]\n",
            "Avg reward: 89.333125: 100%|███████████████| 5000/5000 [00:38<00:00, 129.41it/s]\n",
            "Avg reward: 85.035781: 100%|███████████████| 5000/5000 [00:37<00:00, 133.75it/s]\n",
            "Avg reward: 87.897813: 100%|███████████████| 5000/5000 [00:39<00:00, 127.33it/s]\n",
            "Avg reward: 89.592344: 100%|███████████████| 5000/5000 [00:36<00:00, 135.42it/s]\n",
            "Avg reward: 85.945000: 100%|███████████████| 5000/5000 [00:37<00:00, 132.61it/s]\n",
            "Avg reward: 87.467500: 100%|███████████████| 5000/5000 [00:38<00:00, 130.42it/s]\n",
            "Avg reward: 89.503438: 100%|███████████████| 5000/5000 [00:38<00:00, 129.98it/s]\n",
            "Avg reward: 87.200781: 100%|███████████████| 5000/5000 [00:37<00:00, 133.49it/s]\n",
            "Avg reward: 88.380156: 100%|███████████████| 5000/5000 [00:36<00:00, 135.31it/s]\n",
            "Avg reward: 83.537500: 100%|███████████████| 5000/5000 [00:36<00:00, 136.61it/s]\n",
            "Avg reward: 87.378750: 100%|███████████████| 5000/5000 [00:38<00:00, 130.77it/s]\n",
            "Avg reward: 88.513906: 100%|███████████████| 5000/5000 [00:34<00:00, 144.59it/s]\n",
            "Avg reward: 85.743281: 100%|███████████████| 5000/5000 [00:38<00:00, 131.07it/s]\n",
            "Avg reward: 85.198437: 100%|███████████████| 5000/5000 [00:38<00:00, 130.46it/s]\n",
            "Avg reward: 84.417656: 100%|███████████████| 5000/5000 [00:37<00:00, 132.49it/s]\n",
            "Avg reward: 87.004375: 100%|███████████████| 5000/5000 [00:36<00:00, 135.65it/s]\n",
            "Avg reward: 85.399062: 100%|███████████████| 5000/5000 [00:38<00:00, 130.72it/s]\n",
            "Avg reward: 87.308437: 100%|███████████████| 5000/5000 [00:35<00:00, 140.64it/s]\n",
            "Avg reward: 85.210000: 100%|███████████████| 5000/5000 [00:38<00:00, 129.74it/s]\n",
            "Avg reward: 87.951719: 100%|███████████████| 5000/5000 [00:39<00:00, 127.84it/s]\n",
            "Avg reward: 86.354062: 100%|███████████████| 5000/5000 [00:36<00:00, 135.99it/s]\n",
            "Avg reward: 87.483594: 100%|███████████████| 5000/5000 [00:39<00:00, 127.89it/s]\n",
            "Avg reward: 85.982656: 100%|███████████████| 5000/5000 [00:37<00:00, 134.24it/s]\n",
            "Avg reward: 86.994375: 100%|███████████████| 5000/5000 [00:38<00:00, 131.39it/s]\n",
            "Avg reward: 88.007812: 100%|███████████████| 5000/5000 [00:38<00:00, 129.83it/s]\n",
            "Avg reward: 85.922500: 100%|███████████████| 5000/5000 [00:39<00:00, 125.94it/s]\n",
            "Avg reward: 85.025781: 100%|███████████████| 5000/5000 [00:35<00:00, 139.60it/s]\n",
            "Avg reward: 86.343125: 100%|███████████████| 5000/5000 [00:39<00:00, 128.04it/s]\n",
            "Avg reward: 88.283438: 100%|███████████████| 5000/5000 [00:39<00:00, 126.27it/s]\n",
            "Avg reward: 85.086875: 100%|███████████████| 5000/5000 [00:39<00:00, 127.58it/s]\n",
            "Avg reward: 85.999687: 100%|███████████████| 5000/5000 [00:38<00:00, 128.53it/s]\n",
            "Avg reward: 86.247500: 100%|███████████████| 5000/5000 [00:37<00:00, 132.08it/s]\n",
            "Avg reward: 86.846719: 100%|███████████████| 5000/5000 [00:36<00:00, 137.31it/s]\n",
            "Avg reward: 85.909375: 100%|███████████████| 5000/5000 [00:38<00:00, 129.67it/s]\n",
            "Avg reward: 87.132656: 100%|███████████████| 5000/5000 [00:36<00:00, 135.38it/s]\n",
            "Avg reward: 85.868906: 100%|███████████████| 5000/5000 [00:39<00:00, 127.87it/s]\n",
            "Avg reward: 87.045625: 100%|███████████████| 5000/5000 [00:39<00:00, 127.38it/s]\n",
            "Avg reward: 86.908125: 100%|███████████████| 5000/5000 [00:38<00:00, 130.84it/s]\n",
            "Avg reward: 88.457031: 100%|███████████████| 5000/5000 [00:35<00:00, 139.50it/s]\n",
            "Avg reward: 86.062813: 100%|███████████████| 5000/5000 [00:38<00:00, 128.78it/s]\n",
            "Avg reward: 87.027187: 100%|███████████████| 5000/5000 [00:38<00:00, 131.22it/s]\n",
            "Avg reward: 85.245000: 100%|███████████████| 5000/5000 [00:37<00:00, 134.71it/s]\n",
            "Avg reward: 89.509062: 100%|███████████████| 5000/5000 [00:37<00:00, 133.33it/s]\n",
            "Avg reward: 85.117500: 100%|███████████████| 5000/5000 [00:37<00:00, 131.97it/s]\n",
            "Avg reward: 83.666562: 100%|███████████████| 5000/5000 [00:37<00:00, 132.04it/s]\n",
            "Avg reward: 87.704063: 100%|███████████████| 5000/5000 [00:38<00:00, 131.57it/s]\n",
            "Avg reward: 87.657813: 100%|███████████████| 5000/5000 [00:38<00:00, 129.01it/s]\n",
            "Avg reward: 86.800313: 100%|███████████████| 5000/5000 [00:38<00:00, 128.78it/s]\n",
            "Avg reward: 84.367344: 100%|███████████████| 5000/5000 [00:38<00:00, 130.17it/s]\n",
            "Avg reward: 84.547188: 100%|███████████████| 5000/5000 [00:36<00:00, 136.95it/s]\n",
            "Avg reward: 88.057656: 100%|███████████████| 5000/5000 [00:38<00:00, 129.60it/s]\n",
            "Avg reward: 87.715937: 100%|███████████████| 5000/5000 [00:37<00:00, 134.89it/s]\n",
            "Avg reward: 87.825469: 100%|███████████████| 5000/5000 [00:35<00:00, 139.66it/s]\n",
            "Avg reward: 80.930937: 100%|███████████████| 5000/5000 [00:36<00:00, 135.75it/s]\n",
            "Avg reward: 87.243750: 100%|███████████████| 5000/5000 [00:38<00:00, 131.08it/s]\n",
            "Avg reward: 83.982969: 100%|███████████████| 5000/5000 [00:37<00:00, 134.35it/s]\n",
            "Avg reward: 86.714219: 100%|███████████████| 5000/5000 [00:36<00:00, 138.66it/s]\n",
            "Avg reward: 86.250781: 100%|███████████████| 5000/5000 [00:38<00:00, 129.52it/s]\n",
            "Avg reward: 86.667187: 100%|███████████████| 5000/5000 [00:38<00:00, 129.78it/s]\n",
            "Avg reward: 86.976406: 100%|███████████████| 5000/5000 [00:38<00:00, 131.06it/s]\n",
            "Avg reward: 84.962969: 100%|███████████████| 5000/5000 [00:38<00:00, 128.29it/s]\n",
            "Avg reward: 85.121719: 100%|███████████████| 5000/5000 [00:37<00:00, 132.04it/s]\n",
            "Avg reward: 86.236250: 100%|███████████████| 5000/5000 [00:38<00:00, 128.22it/s]\n",
            "Avg reward: 86.320312: 100%|███████████████| 5000/5000 [00:38<00:00, 131.38it/s]\n",
            "Avg reward: 87.010312: 100%|███████████████| 5000/5000 [00:36<00:00, 137.47it/s]\n",
            "Avg reward: 85.658906: 100%|███████████████| 5000/5000 [00:36<00:00, 137.90it/s]\n",
            "Avg reward: 86.263750: 100%|███████████████| 5000/5000 [00:37<00:00, 133.41it/s]\n",
            "Avg reward: 87.371406: 100%|███████████████| 5000/5000 [00:37<00:00, 135.13it/s]\n",
            "Avg reward: 88.840156: 100%|███████████████| 5000/5000 [00:37<00:00, 132.77it/s]\n",
            "Avg reward: 87.295937: 100%|███████████████| 5000/5000 [00:36<00:00, 136.07it/s]\n",
            "Avg reward: 85.818438: 100%|███████████████| 5000/5000 [00:38<00:00, 131.40it/s]\n",
            "Avg reward: 85.505313: 100%|███████████████| 5000/5000 [00:38<00:00, 128.62it/s]\n",
            "Avg reward: 87.839375: 100%|███████████████| 5000/5000 [00:39<00:00, 126.74it/s]\n",
            "Avg reward: 86.174688: 100%|███████████████| 5000/5000 [00:37<00:00, 132.95it/s]\n",
            "Avg reward: 86.395781: 100%|███████████████| 5000/5000 [00:37<00:00, 132.38it/s]\n",
            "Avg reward: 89.755156: 100%|███████████████| 5000/5000 [00:36<00:00, 136.21it/s]\n",
            "Avg reward: 88.725781: 100%|███████████████| 5000/5000 [00:38<00:00, 130.84it/s]\n",
            "Avg reward: 89.202656: 100%|███████████████| 5000/5000 [00:36<00:00, 138.70it/s]\n",
            "Avg reward: 87.283438: 100%|███████████████| 5000/5000 [00:37<00:00, 131.86it/s]\n",
            "Avg reward: 86.702031: 100%|███████████████| 5000/5000 [00:37<00:00, 133.59it/s]\n",
            "Avg reward: 87.277500: 100%|███████████████| 5000/5000 [00:37<00:00, 131.66it/s]\n",
            "Avg reward: 86.747031: 100%|███████████████| 5000/5000 [00:38<00:00, 130.02it/s]\n",
            "Avg reward: 88.556719: 100%|███████████████| 5000/5000 [00:38<00:00, 130.83it/s]\n",
            "Avg reward: 87.503281: 100%|███████████████| 5000/5000 [00:35<00:00, 142.43it/s]\n",
            "Avg reward: 86.637812: 100%|███████████████| 5000/5000 [00:36<00:00, 136.26it/s]\n",
            "Avg reward: 87.083281: 100%|███████████████| 5000/5000 [00:35<00:00, 141.49it/s]\n",
            "Avg reward: 88.477500: 100%|███████████████| 5000/5000 [00:37<00:00, 133.44it/s]\n",
            "Avg reward: 88.630625: 100%|███████████████| 5000/5000 [00:36<00:00, 137.56it/s]\n",
            "Avg reward: 86.058125: 100%|███████████████| 5000/5000 [00:38<00:00, 131.18it/s]\n",
            "Avg reward: 88.517031: 100%|███████████████| 5000/5000 [00:37<00:00, 134.07it/s]\n",
            "Avg reward: 87.280625: 100%|███████████████| 5000/5000 [00:38<00:00, 129.09it/s]\n",
            "Avg reward: 85.656563: 100%|███████████████| 5000/5000 [00:36<00:00, 135.85it/s]\n",
            "Avg reward: 87.343906: 100%|███████████████| 5000/5000 [00:38<00:00, 128.43it/s]\n"
          ]
        },
        {
          "output_type": "display_data",
          "data": {
            "text/plain": [
              "<Figure size 640x480 with 1 Axes>"
            ],
            "image/png": "[encoded data removed]"
          },
          "metadata": {}
        }
      ],
      "source": [
        "import matplotlib.pyplot as plt\n",
        "\n",
        "for _ in range(NUM_RUNS):\n",
        "    epoch_rewards_test = []\n",
        "    STEP_COUNT = 0\n",
        "    epoch_rewards_test.append(run())\n",
        "\n",
        "epoch_rewards_test = np.array(epoch_rewards_test)\n",
        "\n",
        "x = np.arange(NUM_EPOCHS)\n",
        "fig, axis = plt.subplots()\n",
        "axis.plot(x, np.mean(epoch_rewards_test,\n",
        "                      axis=0))  # plot reward per epoch averaged per run\n",
        "axis.set_xlabel('Epochs')\n",
        "axis.set_ylabel('reward')\n",
        "axis.set_title(('Tablular: nRuns=%d, Epsilon=%.2f, Epi=%d, alpha=%.4f' %\n",
        "                (NUM_RUNS, TRAINING_EP, NUM_EPIS_TRAIN, ALPHA)))\n",
        "plt.show()"
      ]
    },
    {
      "cell_type": "code",
      "execution_count": null,
      "id": "189599fe-101a-4a46-be97-086f40040b1b",
      "metadata": {
        "colab": {
          "base_uri": "https://localhost:8080/",
          "height": 472
        },
        "id": "189599fe-101a-4a46-be97-086f40040b1b",
        "outputId": "a9526425-dbdf-46a6-cdf1-726944f8cc3d"
      },
      "outputs": [
        {
          "output_type": "display_data",
          "data": {
            "text/plain": [
              "<Figure size 640x480 with 1 Axes>"
            ],
            "image/png": "[encoded data removed]"
          },
          "metadata": {}
        }
      ],
      "source": [
        "x = np.arange(NUM_EPOCHS)\n",
        "fig, axis = plt.subplots()\n",
        "axis.plot(x, np.mean(epoch_rewards_test,\n",
        "                      axis=0))  # plot reward per epoch averaged per run\n",
        "axis.set_xlabel('Epochs')\n",
        "axis.set_ylabel('Reward')\n",
        "axis.set_title(('Tablular: nRuns=%d, Epsilon=%.2f, Epi=%d, alpha=%.1f' %\n",
        "                (NUM_RUNS, TRAINING_EP, NUM_EPIS_TRAIN, ALPHA)))\n",
        "plt.show()"
      ]
    },
    {
      "cell_type": "markdown",
      "source": [],
      "metadata": {
        "id": "m6OkLq8f5ntM"
      },
      "id": "m6OkLq8f5ntM"
    },
    {
      "cell_type": "code",
      "execution_count": null,
      "id": "82c5af64-3c6c-4f06-9d04-a8a5fcf1cf64",
      "metadata": {
        "colab": {
          "base_uri": "https://localhost:8080/"
        },
        "id": "82c5af64-3c6c-4f06-9d04-a8a5fcf1cf64",
        "outputId": "ba4d6b72-664e-451c-8784-ff2407550a75"
      },
      "outputs": [
        {
          "output_type": "execute_result",
          "data": {
            "text/plain": [
              "93312"
            ]
          },
          "metadata": {},
          "execution_count": 145
        }
      ],
      "source": [
        "36*72*36"
      ]
    },
    {
      "cell_type": "code",
      "execution_count": null,
      "id": "9c658bf7-1c8b-4363-84c5-553564d90bfb",
      "metadata": {
        "id": "9c658bf7-1c8b-4363-84c5-553564d90bfb"
      },
      "outputs": [],
      "source": []
    }
  ],
  "metadata": {
    "kernelspec": {
      "display_name": "Python 3 (ipykernel)",
      "language": "python",
      "name": "python3"
    },
    "language_info": {
      "codemirror_mode": {
        "name": "ipython",
        "version": 3
      },
      "file_extension": ".py",
      "mimetype": "text/x-python",
      "name": "python",
      "nbconvert_exporter": "python",
      "pygments_lexer": "ipython3",
      "version": "3.11.7"
    },
    "colab": {
      "provenance": []
    }
  },
  "nbformat": 4,
  "nbformat_minor": 5
}